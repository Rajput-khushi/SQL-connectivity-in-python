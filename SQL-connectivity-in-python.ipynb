{
 "cells": [
  {
   "cell_type": "code",
   "execution_count": 7,
   "id": "de2bccc9",
   "metadata": {},
   "outputs": [
    {
     "name": "stdout",
     "output_type": "stream",
     "text": [
      "Connection Established\n"
     ]
    }
   ],
   "source": [
    "pip install mysql-connector-python==8.3.0\n",
    "import mysql.connector\n",
    "mydb=mysql.connector.connect(host='localhost',password='1234',user='root')\n",
    "\n",
    "if mydb.is_connected():\n",
    "    print(\"Connection Established\")"
   ]
  },
  {
   "cell_type": "code",
   "execution_count": 8,
   "id": "1b2358e6",
   "metadata": {},
   "outputs": [],
   "source": [
    "mycursor=mydb.cursor()"
   ]
  },
  {
   "cell_type": "code",
   "execution_count": 9,
   "id": "06428fbd",
   "metadata": {},
   "outputs": [
    {
     "name": "stdout",
     "output_type": "stream",
     "text": [
      "('aaft',)\n",
      "('classicmodels',)\n",
      "('db2',)\n",
      "('information_schema',)\n",
      "('mysql',)\n",
      "('performance_schema',)\n",
      "('sods',)\n",
      "('sods2',)\n",
      "('vehicle',)\n"
     ]
    }
   ],
   "source": [
    "mycursor.execute(\"show databases\")\n",
    "for db in mycursor:\n",
    "    print(db)"
   ]
  },
  {
   "cell_type": "code",
   "execution_count": 10,
   "id": "e4bfacd7",
   "metadata": {},
   "outputs": [],
   "source": [
    "mycursor=mydb.cursor()\n",
    "mycursor.execute(\"use SODS2\")"
   ]
  },
  {
   "cell_type": "code",
   "execution_count": 18,
   "id": "5e973d51",
   "metadata": {},
   "outputs": [],
   "source": [
    "mycursor=mydb.cursor()\n",
    "table=\"CREATE TABLE customer(cus_id int(10),cus_name varchar(20),salary float(10))\"\n",
    "mycursor.execute(table)"
   ]
  },
  {
   "cell_type": "code",
   "execution_count": 19,
   "id": "c6ad4f11",
   "metadata": {},
   "outputs": [
    {
     "name": "stdout",
     "output_type": "stream",
     "text": [
      "('customer',)\n",
      "('customers',)\n"
     ]
    }
   ],
   "source": [
    "mycursor.execute(\"show tables\")\n",
    "for db in mycursor:\n",
    "    print(db)"
   ]
  },
  {
   "cell_type": "code",
   "execution_count": 20,
   "id": "8badfa09",
   "metadata": {},
   "outputs": [],
   "source": [
    "s=\"INSERT INTO customer(cus_id,cus_name,salary) VALUES(%s,%s,%s)\"\n",
    "r1=(1001,'Ria',3500)\n",
    "mycursor.execute(s,r1)\n",
    "mydb.commit()"
   ]
  },
  {
   "cell_type": "code",
   "execution_count": 21,
   "id": "d2467d52",
   "metadata": {},
   "outputs": [
    {
     "name": "stdout",
     "output_type": "stream",
     "text": [
      "(1001, 'Ria', 3500.0)\n"
     ]
    }
   ],
   "source": [
    "s=\"SELECT * from customer\"\n",
    "mycursor.execute(s)\n",
    "result=mycursor.fetchall()\n",
    "for rec in result:\n",
    "    print(rec)"
   ]
  },
  {
   "cell_type": "code",
   "execution_count": 22,
   "id": "3673f5aa",
   "metadata": {},
   "outputs": [],
   "source": [
    "s=\"INSERT INTO customer(cus_id,cus_name,salary) VALUES(%s,%s,%s)\"\n",
    "r1=(1002,'Sia',4500)\n",
    "mycursor.execute(s,r1)\n",
    "mydb.commit()"
   ]
  },
  {
   "cell_type": "code",
   "execution_count": 23,
   "id": "eb37c5ef",
   "metadata": {},
   "outputs": [
    {
     "name": "stdout",
     "output_type": "stream",
     "text": [
      "(1001, 'Ria', 3500.0)\n",
      "(1002, 'Sia', 4500.0)\n"
     ]
    }
   ],
   "source": [
    "s=\"SELECT * from customer\"\n",
    "mycursor.execute(s)\n",
    "result=mycursor.fetchall()\n",
    "for rec in result:\n",
    "    print(rec)"
   ]
  },
  {
   "cell_type": "code",
   "execution_count": 33,
   "id": "c3f7faef",
   "metadata": {},
   "outputs": [],
   "source": [
    "s=\"INSERT INTO customer VALUES(1002,'Sia',4500),(1003,'Priya',5500)\"\n",
    "mycursor.execute(s)\n",
    "mydb.commit()"
   ]
  },
  {
   "cell_type": "code",
   "execution_count": 34,
   "id": "8446281b",
   "metadata": {},
   "outputs": [
    {
     "name": "stdout",
     "output_type": "stream",
     "text": [
      "(1001, 'Ria', 3500.0)\n",
      "(1002, 'Sia', 4500.0)\n",
      "(1002, 'Sia', 4500.0)\n",
      "(1002, 'Sia', 4500.0)\n",
      "(1002, 'Sia', 4500.0)\n",
      "(1003, 'Priya', 5500.0)\n"
     ]
    }
   ],
   "source": [
    "s=\"SELECT * from customer\"\n",
    "mycursor.execute(s)\n",
    "result=mycursor.fetchall()\n",
    "for rec in result:\n",
    "    print(rec)"
   ]
  },
  {
   "cell_type": "code",
   "execution_count": null,
   "id": "2dec25a3",
   "metadata": {},
   "outputs": [],
   "source": []
  }
 ],
 "metadata": {
  "kernelspec": {
   "display_name": "Python 3 (ipykernel)",
   "language": "python",
   "name": "python3"
  },
  "language_info": {
   "codemirror_mode": {
    "name": "ipython",
    "version": 3
   },
   "file_extension": ".py",
   "mimetype": "text/x-python",
   "name": "python",
   "nbconvert_exporter": "python",
   "pygments_lexer": "ipython3",
   "version": "3.11.5"
  }
 },
 "nbformat": 4,
 "nbformat_minor": 5
}
